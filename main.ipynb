{
 "cells": [
  {
   "cell_type": "code",
   "execution_count": 2,
   "id": "3fff753e-6f90-45f5-a3e4-b5726560d845",
   "metadata": {},
   "outputs": [
    {
     "name": "stdin",
     "output_type": "stream",
     "text": [
      "Enter Passenger ID or Name:  78\n"
     ]
    },
    {
     "name": "stdout",
     "output_type": "stream",
     "text": [
      "The passenger did not survive.\n"
     ]
    }
   ],
   "source": [
    "#  Import necessary libraries\n",
    "import pandas as pd\n",
    "\n",
    "#  Load the dataset\n",
    "data = pd.read_csv('Titanic-Dataset.csv')  # Replace with the path to your dataset\n",
    "\n",
    "#  Data Preprocessing\n",
    "# Fill missing values for Age and Embarked\n",
    "data['Age'] = data['Age'].fillna(data['Age'].median())\n",
    "\n",
    "data['Embarked'] = data['Embarked'].fillna(data['Embarked'].mode()[0])\n",
    "\n",
    "\n",
    "# Convert categorical variables into numerical for model building\n",
    "data['Sex'] = data['Sex'].map({'male': 1, 'female': 0})\n",
    "data['Embarked'] = data['Embarked'].map({'S': 0, 'C': 1, 'Q': 2})\n",
    "\n",
    "#  Lookup Function\n",
    "def get_survival_status(data, user_input):\n",
    "    try:\n",
    "        # Check if input is a Passenger ID (digit)\n",
    "        if user_input.isdigit():\n",
    "            passenger_id = int(user_input)\n",
    "            passenger = data[data['PassengerId'] == passenger_id]\n",
    "        else:\n",
    "            # Otherwise, assume input is a Name\n",
    "            passenger = data[data['Name'].str.contains(user_input, case=False, na=False)]\n",
    "        \n",
    "        if not passenger.empty:\n",
    "            survived = passenger.iloc[0]['Survived']\n",
    "            return f\"The passenger {'survived' if survived == 1 else 'did not survive'}.\"\n",
    "        else:\n",
    "            return \"Passenger not found in the dataset.\"\n",
    "    except Exception as e:\n",
    "        return f\"An error occurred: {e}\"\n",
    "\n",
    "# Step 5: User Input\n",
    "user_input = input(\"Enter Passenger ID or Name: \")\n",
    "result = get_survival_status(data, user_input)\n",
    "print(result)\n"
   ]
  },
  {
   "cell_type": "code",
   "execution_count": null,
   "id": "9ce65270-71ec-4d17-a540-f5cfffaf3013",
   "metadata": {},
   "outputs": [],
   "source": []
  },
  {
   "cell_type": "code",
   "execution_count": null,
   "id": "d04194e7-39e5-4761-ae70-c090bdbc85e3",
   "metadata": {},
   "outputs": [],
   "source": []
  }
 ],
 "metadata": {
  "kernelspec": {
   "display_name": "Python 3 (ipykernel)",
   "language": "python",
   "name": "python3"
  },
  "language_info": {
   "codemirror_mode": {
    "name": "ipython",
    "version": 3
   },
   "file_extension": ".py",
   "mimetype": "text/x-python",
   "name": "python",
   "nbconvert_exporter": "python",
   "pygments_lexer": "ipython3",
   "version": "3.13.0"
  }
 },
 "nbformat": 4,
 "nbformat_minor": 5
}
